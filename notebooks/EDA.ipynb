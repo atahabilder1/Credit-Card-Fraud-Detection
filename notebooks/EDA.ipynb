{
 "cells": [
  {
   "cell_type": "markdown",
   "metadata": {},
   "source": [
    "# Credit Card Fraud Detection - Exploratory Data Analysis\n",
    "\n",
    "This notebook performs comprehensive exploratory data analysis on the credit card fraud detection dataset."
   ]
  },
  {
   "cell_type": "markdown",
   "metadata": {},
   "source": [
    "## 1. Setup and Data Loading"
   ]
  },
  {
   "cell_type": "code",
   "execution_count": null,
   "metadata": {},
   "outputs": [],
   "source": [
    "import sys\n",
    "import os\n",
    "sys.path.append('..')\n",
    "\n",
    "import pandas as pd\n",
    "import numpy as np\n",
    "import matplotlib.pyplot as plt\n",
    "import seaborn as sns\n",
    "import warnings\n",
    "\n",
    "from src.utils import (\n",
    "    load_data, \n",
    "    print_dataset_summary, \n",
    "    plot_class_distribution,\n",
    "    plot_feature_distributions,\n",
    "    create_correlation_matrix\n",
    ")\n",
    "\n",
    "warnings.filterwarnings('ignore')\n",
    "plt.style.use('default')\n",
    "sns.set_palette(\"husl\")\n",
    "pd.set_option('display.max_columns', None)\n",
    "\n",
    "print(\"Libraries imported successfully!\")"
   ]
  },
  {
   "cell_type": "code",
   "execution_count": null,
   "metadata": {},
   "outputs": [],
   "source": [
    "# Load the dataset\n",
    "data_path = '../data/creditcard_2023.csv'\n",
    "df = load_data(data_path)\n",
    "print_dataset_summary(df)"
   ]
  },
  {
   "cell_type": "markdown",
   "metadata": {},
   "source": [
    "## 2. Dataset Overview"
   ]
  },
  {
   "cell_type": "code",
   "execution_count": null,
   "metadata": {},
   "outputs": [],
   "source": [
    "print(\"First 5 rows:\")\n",
    "display(df.head())\n",
    "print(\"\\nDataset info:\")\n",
    "print(df.info())\n",
    "print(\"\\nBasic statistics:\")\n",
    "display(df.describe())"
   ]
  },
  {
   "cell_type": "markdown",
   "metadata": {},
   "source": [
    "## 3. Class Distribution Analysis"
   ]
  },
  {
   "cell_type": "code",
   "execution_count": null,
   "metadata": {},
   "outputs": [],
   "source": [
    "plot_class_distribution(df)\n",
    "\n",
    "class_stats = df['Class'].value_counts()\n",
    "class_percentages = df['Class'].value_counts(normalize=True) * 100\n",
    "\n",
    "print(f\"Legitimate: {class_stats[0]:,} ({class_percentages[0]:.3f}%)\")\n",
    "print(f\"Fraudulent: {class_stats[1]:,} ({class_percentages[1]:.3f}%)\")\n",
    "print(f\"Imbalance ratio: {class_stats[0] / class_stats[1]:.1f}:1\")"
   ]
  },
  {
   "cell_type": "markdown",
   "metadata": {},
   "source": [
    "## 4. Feature Analysis"
   ]
  },
  {
   "cell_type": "code",
   "execution_count": null,
   "metadata": {},
   "outputs": [],
   "source": [
    "v_features = [col for col in df.columns if col.startswith('V')]\n",
    "print(f\"Number of V features: {len(v_features)}\")\n",
    "plot_feature_distributions(df, features=v_features[:16])"
   ]
  },
  {
   "cell_type": "markdown",
   "metadata": {},
   "source": [
    "## 5. Correlation Analysis"
   ]
  },
  {
   "cell_type": "code",
   "execution_count": null,
   "metadata": {},
   "outputs": [],
   "source": [
    "create_correlation_matrix(df)\n",
    "\n",
    "correlations_with_target = df.corr()['Class'].abs().sort_values(ascending=False)\n",
    "print(\"Top features correlated with Class:\")\n",
    "print(correlations_with_target.head(15))"
   ]
  },
  {
   "cell_type": "markdown",
   "metadata": {},
   "source": [
    "## 6. Summary"
   ]
  },
  {
   "cell_type": "code",
   "execution_count": null,
   "metadata": {},
   "outputs": [],
   "source": [
    "total_transactions = len(df)\n",
    "fraud_transactions = (df['Class'] == 1).sum()\n",
    "fraud_rate = fraud_transactions / total_transactions * 100\n",
    "\n",
    "print(\"📊 DATASET SUMMARY\")\n",
    "print(\"=\" * 30)\n",
    "print(f\"Total transactions: {total_transactions:,}\")\n",
    "print(f\"Fraudulent transactions: {fraud_transactions:,}\")\n",
    "print(f\"Fraud rate: {fraud_rate:.3f}%\")\n",
    "print(f\"Features: {len(df.columns) - 1}\")\n",
    "print(\"\\n✅ EDA COMPLETE\")"
   ]
  }
 ],
 "metadata": {
  "kernelspec": {
   "display_name": "Python 3",
   "language": "python",
   "name": "python3"
  },
  "language_info": {
   "codemirror_mode": {
    "name": "ipython",
    "version": 3
   },
   "file_extension": ".py",
   "mimetype": "text/x-python",
   "name": "python",
   "nbconvert_exporter": "python",
   "pygments_lexer": "ipython3",
   "version": "3.8.5"
  }
 },
 "nbformat": 4,
 "nbformat_minor": 4
}